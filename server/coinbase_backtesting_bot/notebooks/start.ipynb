{
 "cells": [
  {
   "cell_type": "code",
   "execution_count": 41,
   "id": "b39d9417-2868-4074-8ebe-b6c9062ed0ed",
   "metadata": {},
   "outputs": [
    {
     "ename": "ModuleNotFoundError",
     "evalue": "No module named 'coinbase.websocket'",
     "output_type": "error",
     "traceback": [
      "\u001b[1;31m---------------------------------------------------------------------------\u001b[0m",
      "\u001b[1;31mModuleNotFoundError\u001b[0m                       Traceback (most recent call last)",
      "Cell \u001b[1;32mIn[41], line 6\u001b[0m\n\u001b[0;32m      3\u001b[0m sys\u001b[38;5;241m.\u001b[39mpath\u001b[38;5;241m.\u001b[39mappend(\u001b[38;5;124m\"\u001b[39m\u001b[38;5;124m../../\u001b[39m\u001b[38;5;124m\"\u001b[39m)\n\u001b[0;32m      5\u001b[0m \u001b[38;5;28;01mfrom\u001b[39;00m \u001b[38;5;21;01mcoinbase\u001b[39;00m\u001b[38;5;21;01m.\u001b[39;00m\u001b[38;5;21;01mrest\u001b[39;00m \u001b[38;5;28;01mimport\u001b[39;00m RESTClient\n\u001b[1;32m----> 6\u001b[0m \u001b[38;5;28;01mfrom\u001b[39;00m \u001b[38;5;21;01mcoinbase\u001b[39;00m\u001b[38;5;21;01m.\u001b[39;00m\u001b[38;5;21;01mwebsocket\u001b[39;00m \u001b[38;5;28;01mimport\u001b[39;00m WSClient\n\u001b[0;32m      7\u001b[0m \u001b[38;5;28;01mfrom\u001b[39;00m \u001b[38;5;21;01mjson\u001b[39;00m \u001b[38;5;28;01mimport\u001b[39;00m dumps\n\u001b[0;32m      8\u001b[0m \u001b[38;5;28;01mfrom\u001b[39;00m \u001b[38;5;21;01mdotenv\u001b[39;00m \u001b[38;5;28;01mimport\u001b[39;00m dotenv_values, load_dotenv\n",
      "\u001b[1;31mModuleNotFoundError\u001b[0m: No module named 'coinbase.websocket'"
     ]
    }
   ],
   "source": [
    "import os\n",
    "import sys\n",
    "sys.path.append(\"../../\")\n",
    "\n",
    "from coinbase.rest import RESTClient\n",
    "from coinbase.websocket import WSClient\n",
    "from json import dumps\n",
    "from dotenv import dotenv_values, load_dotenv\n",
    "\n",
    "load_dotenv()\n",
    "secrets = dotenv_values(\".env\")\n",
    "\n",
    "api_key = os.getenv('COINBASE_API_KEY_TRADING_040224')\n",
    "api_secret = os.getenv('COINBASE_API_SECRET_TRADING_040224')\n",
    "client = RESTClient(api_key=api_key, api_secret=api_secret)"
   ]
  },
  {
   "cell_type": "code",
   "execution_count": 21,
   "id": "6823ed5e-cbeb-483a-abb9-723e80259767",
   "metadata": {},
   "outputs": [],
   "source": [
    "# Gets accounts... i.e. NEAR, Polkadot, etc.\n",
    "accounts = client.get_accounts()\n",
    "# print(dumps(accounts, indent=2))"
   ]
  },
  {
   "cell_type": "code",
   "execution_count": 38,
   "id": "bc5d33f4-4533-431d-869a-d6cd62e54b1c",
   "metadata": {},
   "outputs": [
    {
     "name": "stdout",
     "output_type": "stream",
     "text": [
      "{'product_id': 'SOL-USD', 'bids': [{'price': '97.72', 'size': '30.757'}], 'asks': [{'price': '97.73', 'size': '18.879'}], 'time': '2024-02-04T14:03:44.685580Z'}\n",
      "{'product_id': 'ETH-USD', 'bids': [{'price': '2303.4', 'size': '0.02567942'}], 'asks': [{'price': '2303.41', 'size': '8.06001274'}], 'time': '2024-02-04T14:03:44.800633Z'}\n",
      "{'product_id': 'BTC-USD', 'bids': [{'price': '42970.23', 'size': '0.125'}], 'asks': [{'price': '42971.94', 'size': '0.02'}], 'time': '2024-02-04T14:03:44.830894Z'}\n"
     ]
    }
   ],
   "source": [
    "# Get Best Bid/Ask\n",
    "bid_ask = client.get_best_bid_ask()\n",
    "pricebooks = bid_ask['pricebooks']\n",
    "\n",
    "desired_instruments = ['BTC-USD', 'ETH-USD', 'SOL-USD']\n",
    "\n",
    "for pricebook in pricebooks:\n",
    "    if pricebook['product_id'] in desired_instruments:\n",
    "        print(pricebook)"
   ]
  },
  {
   "cell_type": "code",
   "execution_count": null,
   "id": "cd77e99d-ffcd-494d-8397-93933b2dc3b9",
   "metadata": {},
   "outputs": [],
   "source": []
  }
 ],
 "metadata": {
  "kernelspec": {
   "display_name": "Python 3 (ipykernel)",
   "language": "python",
   "name": "python3"
  },
  "language_info": {
   "codemirror_mode": {
    "name": "ipython",
    "version": 3
   },
   "file_extension": ".py",
   "mimetype": "text/x-python",
   "name": "python",
   "nbconvert_exporter": "python",
   "pygments_lexer": "ipython3",
   "version": "3.12.1"
  }
 },
 "nbformat": 4,
 "nbformat_minor": 5
}
