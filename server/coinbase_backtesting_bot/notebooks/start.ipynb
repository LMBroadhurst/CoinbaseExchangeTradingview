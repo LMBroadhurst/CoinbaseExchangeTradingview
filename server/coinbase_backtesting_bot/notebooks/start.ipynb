{
 "cells": [
  {
   "cell_type": "code",
   "execution_count": 1,
   "id": "b39d9417-2868-4074-8ebe-b6c9062ed0ed",
   "metadata": {},
   "outputs": [],
   "source": [
    "import os\n",
    "import sys\n",
    "sys.path.append(\"../../\")\n",
    "\n",
    "from coinbase.rest import RESTClient\n",
    "# from coinbase.websocket import WSClient\n",
    "from json import dumps\n",
    "from dotenv import dotenv_values, load_dotenv\n",
    "\n",
    "load_dotenv()\n",
    "secrets = dotenv_values(\".env\")\n",
    "\n",
    "api_key = os.getenv('COINBASE_API_KEY_TRADING_040224')\n",
    "api_secret = os.getenv('COINBASE_API_SECRET_TRADING_040224')\n",
    "client = RESTClient(api_key=api_key, api_secret=api_secret)"
   ]
  },
  {
   "cell_type": "code",
   "execution_count": 2,
   "id": "6823ed5e-cbeb-483a-abb9-723e80259767",
   "metadata": {},
   "outputs": [],
   "source": [
    "# Gets accounts... i.e. NEAR, Polkadot, etc.\n",
    "accounts = client.get_accounts()\n",
    "# print(dumps(accounts, indent=2))"
   ]
  },
  {
   "cell_type": "code",
   "execution_count": 3,
   "id": "bc5d33f4-4533-431d-869a-d6cd62e54b1c",
   "metadata": {},
   "outputs": [],
   "source": [
    "# Get Best Bid/Ask\n",
    "bid_ask = client.get_best_bid_ask()\n",
    "pricebooks = bid_ask['pricebooks']\n",
    "\n",
    "desired_instruments = ['BTC-USD', 'ETH-USD', 'SOL-USD']\n",
    "\n",
    "# for pricebook in pricebooks:\n",
    "#     if pricebook['product_id'] in desired_instruments:\n",
    "        # print(pricebook)"
   ]
  },
  {
   "cell_type": "code",
   "execution_count": 4,
   "id": "cd77e99d-ffcd-494d-8397-93933b2dc3b9",
   "metadata": {},
   "outputs": [],
   "source": [
    "# Get Product Candles\n",
    "x = client.get_candles('BTC-USD', 1682531200, 1704067200, 'ONE_DAY')\n",
    "# print(x['candles'])"
   ]
  },
  {
   "cell_type": "code",
   "execution_count": 1,
   "id": "76a46add-a609-4e45-8f33-cd5e7c2b721a",
   "metadata": {},
   "outputs": [
    {
     "data": {
      "text/html": [
       "<div>\n",
       "<style scoped>\n",
       "    .dataframe tbody tr th:only-of-type {\n",
       "        vertical-align: middle;\n",
       "    }\n",
       "\n",
       "    .dataframe tbody tr th {\n",
       "        vertical-align: top;\n",
       "    }\n",
       "\n",
       "    .dataframe thead th {\n",
       "        text-align: right;\n",
       "    }\n",
       "</style>\n",
       "<table border=\"1\" class=\"dataframe\">\n",
       "  <thead>\n",
       "    <tr style=\"text-align: right;\">\n",
       "      <th></th>\n",
       "      <th>start</th>\n",
       "      <th>low</th>\n",
       "      <th>high</th>\n",
       "      <th>open</th>\n",
       "      <th>close</th>\n",
       "      <th>volume</th>\n",
       "      <th>human_time</th>\n",
       "    </tr>\n",
       "  </thead>\n",
       "  <tbody>\n",
       "    <tr>\n",
       "      <th>0</th>\n",
       "      <td>1640995200</td>\n",
       "      <td>46205</td>\n",
       "      <td>47967.12</td>\n",
       "      <td>46211.24</td>\n",
       "      <td>47733.43</td>\n",
       "      <td>9463.6617111</td>\n",
       "      <td>2022-01-01</td>\n",
       "    </tr>\n",
       "    <tr>\n",
       "      <th>1</th>\n",
       "      <td>1641081600</td>\n",
       "      <td>46633.36</td>\n",
       "      <td>47990</td>\n",
       "      <td>47733.43</td>\n",
       "      <td>47299.07</td>\n",
       "      <td>6833.49845548</td>\n",
       "      <td>2022-01-02</td>\n",
       "    </tr>\n",
       "  </tbody>\n",
       "</table>\n",
       "</div>"
      ],
      "text/plain": [
       "        start       low      high      open     close         volume  \\\n",
       "0  1640995200     46205  47967.12  46211.24  47733.43   9463.6617111   \n",
       "1  1641081600  46633.36     47990  47733.43  47299.07  6833.49845548   \n",
       "\n",
       "  human_time  \n",
       "0 2022-01-01  \n",
       "1 2022-01-02  "
      ]
     },
     "execution_count": 1,
     "metadata": {},
     "output_type": "execute_result"
    }
   ],
   "source": [
    "import pickle\n",
    "import pandas as pd\n",
    "\n",
    "x = pd.read_pickle(\"../scripts/COINBASE_CANDLESTICKS__BTC-USD_ONE_DAY_1640_1641.pkl\")\n",
    "x.head()"
   ]
  }
 ],
 "metadata": {
  "kernelspec": {
   "display_name": "Python 3 (ipykernel)",
   "language": "python",
   "name": "python3"
  },
  "language_info": {
   "codemirror_mode": {
    "name": "ipython",
    "version": 3
   },
   "file_extension": ".py",
   "mimetype": "text/x-python",
   "name": "python",
   "nbconvert_exporter": "python",
   "pygments_lexer": "ipython3",
   "version": "3.12.1"
  }
 },
 "nbformat": 4,
 "nbformat_minor": 5
}
